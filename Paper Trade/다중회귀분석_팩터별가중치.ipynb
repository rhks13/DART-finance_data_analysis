{
  "cells": [
    {
      "cell_type": "markdown",
      "metadata": {
        "id": "view-in-github",
        "colab_type": "text"
      },
      "source": [
        "<a href=\"https://colab.research.google.com/github/rhks13/DART/blob/main/%EB%8B%A4%EC%A4%91%ED%9A%8C%EA%B7%80%EB%B6%84%EC%84%9D_%ED%8C%A9%ED%84%B0%EB%B3%84%EA%B0%80%EC%A4%91%EC%B9%98.ipynb\" target=\"_parent\"><img src=\"https://colab.research.google.com/assets/colab-badge.svg\" alt=\"Open In Colab\"/></a>"
      ]
    },
    {
      "cell_type": "code",
      "execution_count": null,
      "id": "6ad9cefb",
      "metadata": {
        "id": "6ad9cefb"
      },
      "outputs": [],
      "source": [
        "import pandas as pd\n",
        "import matplotlib.pyplot as plt\n",
        "%matplotlib inline\n",
        "import seaborn as sns\n",
        "import numpy as np\n",
        "\n"
      ]
    },
    {
      "cell_type": "markdown",
      "id": "060efae0",
      "metadata": {
        "id": "060efae0"
      },
      "source": [
        "# 퀄리티 factor를 통한 유니버스 제한"
      ]
    },
    {
      "cell_type": "code",
      "execution_count": null,
      "id": "ce65fc2b",
      "metadata": {
        "id": "ce65fc2b"
      },
      "outputs": [],
      "source": [
        "# 데이터 업로드\n",
        "total_income = pd.read_excel('C:/Users/82106/\\Desktop/DART/코스피_매출총이익.xlsx', index_col=0)\n",
        "total_assets = pd.read_excel('C:/Users/82106/\\Desktop/DART/코스피_총자산.xlsx', index_col=0)\n",
        "pbr = pd.read_excel('C:/Users/82106/\\Desktop/DART/코스피_PBR.xlsx', index_col=0)"
      ]
    },
    {
      "cell_type": "code",
      "execution_count": null,
      "id": "317c744a",
      "metadata": {
        "id": "317c744a"
      },
      "outputs": [],
      "source": [
        "# gpa 생성\n",
        "gpa=total_income/total_assets\n",
        "# pbr rank 생성\n",
        "pbr_rank=pbr.describe().loc[\"mean\"]/pbr.describe().loc[\"count\"]\n",
        "pbr_rank=pd.DataFrame(pbr_rank)\n",
        "pbr_rank['rank'] = pbr_rank[0].rank()\n",
        "# gpa rank 생성\n",
        "gpa_rank=gpa.describe().loc[\"mean\"]/gpa.describe().loc[\"count\"]\n",
        "gpa_rank=pd.DataFrame(gpa_rank)\n",
        "gpa_rank['rank'] = gpa_rank[0].rank()\n",
        "# quality rank 생성\n",
        "quality_rank = pbr_rank+gpa_rank\n",
        "quality_rank['final_rank'] = quality_rank['rank'].rank()\n",
        "quality_rank=quality_rank.sort_values(\"final_rank\")[394:794]\n",
        "# 유니버스 제한\n",
        "quality_index=list(quality_rank.index)"
      ]
    },
    {
      "cell_type": "markdown",
      "id": "f0cc386f",
      "metadata": {
        "id": "f0cc386f"
      },
      "source": [
        "# 상승장세 파악"
      ]
    },
    {
      "cell_type": "code",
      "execution_count": null,
      "id": "bd0e2692",
      "metadata": {
        "id": "bd0e2692"
      },
      "outputs": [],
      "source": [
        "kospi = pd.read_excel('C:/Users/82106/\\Desktop/DART/코스피_지수.xlsx', index_col=0)\n",
        "kospi= kospi.diff()\n",
        "kospi_inc=kospi[kospi>0].dropna(axis=0)\n",
        "\n",
        "#각행을 한달치의 차분이라 생각.\n",
        "#ex) 8/31 -> 7월~8월"
      ]
    },
    {
      "cell_type": "code",
      "execution_count": null,
      "id": "532c5826",
      "metadata": {
        "id": "532c5826",
        "outputId": "ea0d70c3-13f1-42e0-8d1d-3660e0831504"
      },
      "outputs": [
        {
          "data": {
            "text/html": [
              "<div>\n",
              "<style scoped>\n",
              "    .dataframe tbody tr th:only-of-type {\n",
              "        vertical-align: middle;\n",
              "    }\n",
              "\n",
              "    .dataframe tbody tr th {\n",
              "        vertical-align: top;\n",
              "    }\n",
              "\n",
              "    .dataframe thead th {\n",
              "        text-align: right;\n",
              "    }\n",
              "</style>\n",
              "<table border=\"1\" class=\"dataframe\">\n",
              "  <thead>\n",
              "    <tr style=\"text-align: right;\">\n",
              "      <th></th>\n",
              "      <th>소계</th>\n",
              "    </tr>\n",
              "    <tr>\n",
              "      <th>Symbol Name</th>\n",
              "      <th></th>\n",
              "    </tr>\n",
              "  </thead>\n",
              "  <tbody>\n",
              "    <tr>\n",
              "      <th>2002-08-31</th>\n",
              "      <td>18.41</td>\n",
              "    </tr>\n",
              "    <tr>\n",
              "      <th>2002-10-31</th>\n",
              "      <td>12.50</td>\n",
              "    </tr>\n",
              "    <tr>\n",
              "      <th>2002-11-30</th>\n",
              "      <td>65.88</td>\n",
              "    </tr>\n",
              "    <tr>\n",
              "      <th>2003-04-30</th>\n",
              "      <td>63.65</td>\n",
              "    </tr>\n",
              "    <tr>\n",
              "      <th>2003-05-31</th>\n",
              "      <td>34.07</td>\n",
              "    </tr>\n",
              "    <tr>\n",
              "      <th>...</th>\n",
              "      <td>...</td>\n",
              "    </tr>\n",
              "    <tr>\n",
              "      <th>2021-05-31</th>\n",
              "      <td>56.06</td>\n",
              "    </tr>\n",
              "    <tr>\n",
              "      <th>2021-06-30</th>\n",
              "      <td>92.76</td>\n",
              "    </tr>\n",
              "    <tr>\n",
              "      <th>2021-12-31</th>\n",
              "      <td>138.64</td>\n",
              "    </tr>\n",
              "    <tr>\n",
              "      <th>2022-02-28</th>\n",
              "      <td>35.84</td>\n",
              "    </tr>\n",
              "    <tr>\n",
              "      <th>2022-03-31</th>\n",
              "      <td>58.47</td>\n",
              "    </tr>\n",
              "  </tbody>\n",
              "</table>\n",
              "<p>137 rows × 1 columns</p>\n",
              "</div>"
            ],
            "text/plain": [
              "                 소계\n",
              "Symbol Name        \n",
              "2002-08-31    18.41\n",
              "2002-10-31    12.50\n",
              "2002-11-30    65.88\n",
              "2003-04-30    63.65\n",
              "2003-05-31    34.07\n",
              "...             ...\n",
              "2021-05-31    56.06\n",
              "2021-06-30    92.76\n",
              "2021-12-31   138.64\n",
              "2022-02-28    35.84\n",
              "2022-03-31    58.47\n",
              "\n",
              "[137 rows x 1 columns]"
            ]
          },
          "execution_count": 8,
          "metadata": {},
          "output_type": "execute_result"
        }
      ],
      "source": [
        "kospi_inc"
      ]
    },
    {
      "cell_type": "code",
      "execution_count": null,
      "id": "876f0d43",
      "metadata": {
        "id": "876f0d43",
        "outputId": "482c6ada-a386-4dc3-80bf-6e6374917797"
      },
      "outputs": [
        {
          "data": {
            "text/plain": [
              "DatetimeIndex(['2002-08-31', '2002-10-31', '2002-11-30', '2003-04-30',\n",
              "               '2003-05-31', '2003-06-30', '2003-07-31', '2003-08-31',\n",
              "               '2003-10-31', '2003-11-30',\n",
              "               ...\n",
              "               '2020-12-31', '2021-01-31', '2021-02-28', '2021-03-31',\n",
              "               '2021-04-30', '2021-05-31', '2021-06-30', '2021-12-31',\n",
              "               '2022-02-28', '2022-03-31'],\n",
              "              dtype='datetime64[ns]', name='Symbol Name', length=137, freq=None)"
            ]
          },
          "execution_count": 10,
          "metadata": {},
          "output_type": "execute_result"
        }
      ],
      "source": [
        "# 상승장세 인덱스 \n",
        "inc_index=kospi_inc.index\n",
        "inc_index"
      ]
    },
    {
      "cell_type": "markdown",
      "id": "04d7b7e7",
      "metadata": {
        "id": "04d7b7e7"
      },
      "source": [
        "# 변동성 팩터&기업별 변동성 생성"
      ]
    },
    {
      "cell_type": "code",
      "execution_count": null,
      "id": "1b848ef9",
      "metadata": {
        "id": "1b848ef9"
      },
      "outputs": [],
      "source": [
        "var = pd.read_excel('C:/Users/82106/\\Desktop/DART/코스피_변동성(20일).xlsx', index_col=0)\n",
        "var=var.loc[inc_index,:]"
      ]
    },
    {
      "cell_type": "code",
      "execution_count": null,
      "id": "f6db6774",
      "metadata": {
        "id": "f6db6774"
      },
      "outputs": [],
      "source": [
        "volatility = var[quality_index]\n",
        "vol_des=volatility.describe()"
      ]
    },
    {
      "cell_type": "code",
      "execution_count": null,
      "id": "7ac9a77a",
      "metadata": {
        "id": "7ac9a77a",
        "outputId": "64ba4dd8-bf19-42da-f420-c4de68c3acfa"
      },
      "outputs": [
        {
          "data": {
            "text/html": [
              "<div>\n",
              "<style scoped>\n",
              "    .dataframe tbody tr th:only-of-type {\n",
              "        vertical-align: middle;\n",
              "    }\n",
              "\n",
              "    .dataframe tbody tr th {\n",
              "        vertical-align: top;\n",
              "    }\n",
              "\n",
              "    .dataframe thead th {\n",
              "        text-align: right;\n",
              "    }\n",
              "</style>\n",
              "<table border=\"1\" class=\"dataframe\">\n",
              "  <thead>\n",
              "    <tr style=\"text-align: right;\">\n",
              "      <th></th>\n",
              "      <th>mean</th>\n",
              "    </tr>\n",
              "  </thead>\n",
              "  <tbody>\n",
              "    <tr>\n",
              "      <th>삼성제약</th>\n",
              "      <td>0.030873</td>\n",
              "    </tr>\n",
              "    <tr>\n",
              "      <th>퍼스텍</th>\n",
              "      <td>0.033522</td>\n",
              "    </tr>\n",
              "    <tr>\n",
              "      <th>엔에이치스팩19호</th>\n",
              "      <td>0.005700</td>\n",
              "    </tr>\n",
              "    <tr>\n",
              "      <th>CJ대한통운</th>\n",
              "      <td>0.021990</td>\n",
              "    </tr>\n",
              "    <tr>\n",
              "      <th>오리온홀딩스</th>\n",
              "      <td>0.022269</td>\n",
              "    </tr>\n",
              "    <tr>\n",
              "      <th>...</th>\n",
              "      <td>...</td>\n",
              "    </tr>\n",
              "    <tr>\n",
              "      <th>LG생활건강</th>\n",
              "      <td>0.020817</td>\n",
              "    </tr>\n",
              "    <tr>\n",
              "      <th>SK바이오팜</th>\n",
              "      <td>0.027114</td>\n",
              "    </tr>\n",
              "    <tr>\n",
              "      <th>한미사이언스</th>\n",
              "      <td>0.026686</td>\n",
              "    </tr>\n",
              "    <tr>\n",
              "      <th>크래프톤</th>\n",
              "      <td>0.030700</td>\n",
              "    </tr>\n",
              "    <tr>\n",
              "      <th>F&amp;F</th>\n",
              "      <td>0.029575</td>\n",
              "    </tr>\n",
              "  </tbody>\n",
              "</table>\n",
              "<p>400 rows × 1 columns</p>\n",
              "</div>"
            ],
            "text/plain": [
              "               mean\n",
              "삼성제약       0.030873\n",
              "퍼스텍        0.033522\n",
              "엔에이치스팩19호  0.005700\n",
              "CJ대한통운     0.021990\n",
              "오리온홀딩스     0.022269\n",
              "...             ...\n",
              "LG생활건강     0.020817\n",
              "SK바이오팜     0.027114\n",
              "한미사이언스     0.026686\n",
              "크래프톤       0.030700\n",
              "F&F        0.029575\n",
              "\n",
              "[400 rows x 1 columns]"
            ]
          },
          "execution_count": 14,
          "metadata": {},
          "output_type": "execute_result"
        }
      ],
      "source": [
        "#기업별 변동성 \n",
        "vol_comp=vol_des.loc['mean']\n",
        "pd.DataFrame(vol_comp)"
      ]
    },
    {
      "cell_type": "code",
      "execution_count": null,
      "id": "39b42bb1",
      "metadata": {
        "id": "39b42bb1",
        "outputId": "4c87e46e-a110-4400-f376-80132f8a7cbe"
      },
      "outputs": [
        {
          "data": {
            "text/html": [
              "<div>\n",
              "<style scoped>\n",
              "    .dataframe tbody tr th:only-of-type {\n",
              "        vertical-align: middle;\n",
              "    }\n",
              "\n",
              "    .dataframe tbody tr th {\n",
              "        vertical-align: top;\n",
              "    }\n",
              "\n",
              "    .dataframe thead th {\n",
              "        text-align: right;\n",
              "    }\n",
              "</style>\n",
              "<table border=\"1\" class=\"dataframe\">\n",
              "  <thead>\n",
              "    <tr style=\"text-align: right;\">\n",
              "      <th></th>\n",
              "      <th>mean</th>\n",
              "    </tr>\n",
              "    <tr>\n",
              "      <th>Symbol Name</th>\n",
              "      <th></th>\n",
              "    </tr>\n",
              "  </thead>\n",
              "  <tbody>\n",
              "    <tr>\n",
              "      <th>2002-08-31</th>\n",
              "      <td>0.029521</td>\n",
              "    </tr>\n",
              "    <tr>\n",
              "      <th>2002-10-31</th>\n",
              "      <td>0.036324</td>\n",
              "    </tr>\n",
              "    <tr>\n",
              "      <th>2002-11-30</th>\n",
              "      <td>0.025659</td>\n",
              "    </tr>\n",
              "    <tr>\n",
              "      <th>2003-04-30</th>\n",
              "      <td>0.035814</td>\n",
              "    </tr>\n",
              "    <tr>\n",
              "      <th>2003-05-31</th>\n",
              "      <td>0.029126</td>\n",
              "    </tr>\n",
              "    <tr>\n",
              "      <th>...</th>\n",
              "      <td>...</td>\n",
              "    </tr>\n",
              "    <tr>\n",
              "      <th>2021-05-31</th>\n",
              "      <td>0.025716</td>\n",
              "    </tr>\n",
              "    <tr>\n",
              "      <th>2021-06-30</th>\n",
              "      <td>0.022419</td>\n",
              "    </tr>\n",
              "    <tr>\n",
              "      <th>2021-12-31</th>\n",
              "      <td>0.020759</td>\n",
              "    </tr>\n",
              "    <tr>\n",
              "      <th>2022-02-28</th>\n",
              "      <td>0.028654</td>\n",
              "    </tr>\n",
              "    <tr>\n",
              "      <th>2022-03-31</th>\n",
              "      <td>0.022822</td>\n",
              "    </tr>\n",
              "  </tbody>\n",
              "</table>\n",
              "<p>137 rows × 1 columns</p>\n",
              "</div>"
            ],
            "text/plain": [
              "                 mean\n",
              "Symbol Name          \n",
              "2002-08-31   0.029521\n",
              "2002-10-31   0.036324\n",
              "2002-11-30   0.025659\n",
              "2003-04-30   0.035814\n",
              "2003-05-31   0.029126\n",
              "...               ...\n",
              "2021-05-31   0.025716\n",
              "2021-06-30   0.022419\n",
              "2021-12-31   0.020759\n",
              "2022-02-28   0.028654\n",
              "2022-03-31   0.022822\n",
              "\n",
              "[137 rows x 1 columns]"
            ]
          },
          "execution_count": 17,
          "metadata": {},
          "output_type": "execute_result"
        }
      ],
      "source": [
        "# 변동성 factor 생성\n",
        "vol_trans=volatility.transpose()\n",
        "vol_fac=vol_trans.describe().loc['mean']\n",
        "pd.DataFrame(vol_fac)"
      ]
    },
    {
      "cell_type": "markdown",
      "id": "6e326503",
      "metadata": {
        "id": "6e326503"
      },
      "source": [
        "# 모멘텀 factor(시계열&횡단)"
      ]
    },
    {
      "cell_type": "code",
      "execution_count": null,
      "id": "7f5f4a25",
      "metadata": {
        "id": "7f5f4a25"
      },
      "outputs": [],
      "source": [
        "income = pd.read_excel('C:/Users/82106/\\Desktop/DART/코스피_수익률(1개월).xlsx', index_col=0)[quality_index]"
      ]
    },
    {
      "cell_type": "code",
      "execution_count": null,
      "id": "c81ca93a",
      "metadata": {
        "id": "c81ca93a",
        "outputId": "6ed17fab-2330-4312-8aec-95c8440bb615"
      },
      "outputs": [
        {
          "data": {
            "text/plain": [
              "삼성제약          2.10\n",
              "퍼스텍         -14.24\n",
              "엔에이치스팩19호     1.69\n",
              "CJ대한통운        4.44\n",
              "오리온홀딩스        1.06\n",
              "             ...  \n",
              "LG생활건강       -9.68\n",
              "SK바이오팜        6.15\n",
              "한미사이언스       -1.76\n",
              "크래프톤         -6.61\n",
              "F&F         -16.29\n",
              "Name: 2022-03-31 00:00:00, Length: 400, dtype: float64"
            ]
          },
          "execution_count": 20,
          "metadata": {},
          "output_type": "execute_result"
        }
      ],
      "source": [
        "#기업별 횡단 모멘텀 생성\n",
        "income=income.loc[inc_index,:]\n",
        "income_cross_comp=income.iloc[136,:]\n",
        "income_cross_comp"
      ]
    },
    {
      "cell_type": "code",
      "execution_count": null,
      "id": "5aedb68a",
      "metadata": {
        "id": "5aedb68a",
        "outputId": "2fb013c2-af72-4184-8ae7-3eb81c09bea8"
      },
      "outputs": [
        {
          "data": {
            "text/plain": [
              "Symbol Name\n",
              "2002-08-31     2.881496\n",
              "2002-10-31     3.170890\n",
              "2002-11-30     4.558613\n",
              "2003-04-30    11.407017\n",
              "2003-05-31     8.545672\n",
              "                ...    \n",
              "2021-05-31     4.044781\n",
              "2021-06-30     4.784396\n",
              "2021-12-31     8.608325\n",
              "2022-02-28     4.625400\n",
              "2022-03-31     6.100625\n",
              "Name: mean, Length: 137, dtype: float64"
            ]
          },
          "execution_count": 22,
          "metadata": {},
          "output_type": "execute_result"
        }
      ],
      "source": [
        "#횡단 factor 생성\n",
        "income_cross=income.transpose()\n",
        "income_cross_fac=income_cross.describe().loc['mean']\n",
        "income_cross_fac"
      ]
    },
    {
      "cell_type": "code",
      "execution_count": null,
      "id": "3b281c2a",
      "metadata": {
        "id": "3b281c2a",
        "outputId": "cfa0b6ed-83a3-410a-9a59-a2663b4dfdd1"
      },
      "outputs": [
        {
          "data": {
            "text/plain": [
              "삼성제약         0.547445\n",
              "퍼스텍          0.540146\n",
              "엔에이치스팩19호    0.014599\n",
              "CJ대한통운       0.620438\n",
              "오리온홀딩스       0.656934\n",
              "               ...   \n",
              "LG생활건강       0.700730\n",
              "SK바이오팜       0.058394\n",
              "한미사이언스       0.583942\n",
              "크래프톤         0.007299\n",
              "F&F          0.029197\n",
              "Name: mean, Length: 400, dtype: float64"
            ]
          },
          "execution_count": 24,
          "metadata": {},
          "output_type": "execute_result"
        }
      ],
      "source": [
        "#기업별 시계열 지표 생성\n",
        "income_time=(income>0).astype(int)\n",
        "income_time_comp=income_time.describe().loc['mean']\n",
        "income_time_comp"
      ]
    },
    {
      "cell_type": "code",
      "execution_count": null,
      "id": "4e0ed4ad",
      "metadata": {
        "id": "4e0ed4ad",
        "outputId": "33825861-21f7-4760-ca94-f7eb6a0da461"
      },
      "outputs": [
        {
          "data": {
            "text/plain": [
              "Symbol Name\n",
              "2002-08-31    0.3575\n",
              "2002-10-31    0.3525\n",
              "2002-11-30    0.3900\n",
              "2003-04-30    0.5250\n",
              "2003-05-31    0.4250\n",
              "               ...  \n",
              "2021-05-31    0.5700\n",
              "2021-06-30    0.5675\n",
              "2021-12-31    0.8225\n",
              "2022-02-28    0.6875\n",
              "2022-03-31    0.7900\n",
              "Name: mean, Length: 137, dtype: float64"
            ]
          },
          "execution_count": 25,
          "metadata": {},
          "output_type": "execute_result"
        }
      ],
      "source": [
        "#시계열 factor 생성\n",
        "income_time_fac=income_time.transpose().describe().loc['mean']\n",
        "income_time_fac"
      ]
    },
    {
      "cell_type": "markdown",
      "id": "3a8920e8",
      "metadata": {
        "id": "3a8920e8"
      },
      "source": [
        "# 소형주 factor"
      ]
    },
    {
      "cell_type": "code",
      "execution_count": null,
      "id": "4833c8f0",
      "metadata": {
        "id": "4833c8f0"
      },
      "outputs": [],
      "source": [
        "small = pd.read_excel('C:/Users/82106/\\Desktop/DART/코스피_시가총액.xlsx', index_col=0)[quality_index]\n",
        "income2 = pd.read_excel('C:/Users/82106/\\Desktop/DART/코스피_수익률(6개월).xlsx', index_col=0)[quality_index]"
      ]
    },
    {
      "cell_type": "code",
      "execution_count": null,
      "id": "9ef34c00",
      "metadata": {
        "id": "9ef34c00",
        "outputId": "b14ce779-d379-4a53-ba97-29e4241f3a25"
      },
      "outputs": [
        {
          "data": {
            "text/plain": [
              "삼성제약        -0.000029\n",
              "퍼스텍          0.000065\n",
              "엔에이치스팩19호   -0.000046\n",
              "CJ대한통운       0.000025\n",
              "오리온홀딩스       0.000010\n",
              "               ...   \n",
              "LG생활건강       0.000005\n",
              "SK바이오팜      -0.000003\n",
              "한미사이언스       0.000019\n",
              "크래프톤        -0.000003\n",
              "F&F          0.000004\n",
              "Name: mean, Length: 400, dtype: float64"
            ]
          },
          "execution_count": 28,
          "metadata": {},
          "output_type": "execute_result"
        }
      ],
      "source": [
        "#기업별 소형주 지표\n",
        "small=small.loc[inc_index,:]\n",
        "income2=income2.loc[inc_index,:]\n",
        "tiny=income2/small\n",
        "\n",
        "small_comp=tiny.describe().loc['mean']\n",
        "small_comp"
      ]
    },
    {
      "cell_type": "code",
      "execution_count": null,
      "id": "71ba4818",
      "metadata": {
        "id": "71ba4818",
        "outputId": "bcba09b9-8d26-420d-accb-3898280db732"
      },
      "outputs": [
        {
          "data": {
            "text/plain": [
              "Symbol Name\n",
              "2002-08-31   -0.000586\n",
              "2002-10-31   -0.000622\n",
              "2002-11-30   -0.000812\n",
              "2003-04-30   -0.001042\n",
              "2003-05-31   -0.000799\n",
              "                ...   \n",
              "2021-05-31    0.000087\n",
              "2021-06-30    0.000091\n",
              "2021-12-31   -0.000060\n",
              "2022-02-28   -0.000063\n",
              "2022-03-31   -0.000029\n",
              "Name: mean, Length: 137, dtype: float64"
            ]
          },
          "execution_count": 29,
          "metadata": {},
          "output_type": "execute_result"
        }
      ],
      "source": [
        "#기업별 소형주 factor 생성\n",
        "small_fac=tiny.transpose().describe().loc['mean']\n",
        "small_fac"
      ]
    },
    {
      "cell_type": "markdown",
      "id": "71802169",
      "metadata": {
        "id": "71802169"
      },
      "source": [
        "# 다중회귀분석을 통한 가중치 찾기\n"
      ]
    },
    {
      "cell_type": "code",
      "execution_count": null,
      "id": "38075328",
      "metadata": {
        "id": "38075328"
      },
      "outputs": [],
      "source": [
        "import statsmodels.api as sm\n",
        "from sklearn import linear_model\n"
      ]
    },
    {
      "cell_type": "code",
      "execution_count": null,
      "id": "465df844",
      "metadata": {
        "id": "465df844"
      },
      "outputs": [],
      "source": [
        "# 동일한 비율계산을 위한 표준화\n",
        "\n",
        "def f_z_score(data): # z-score 함수 생성\n",
        "    mean = np.mean(data) #평균\n",
        "    std = np.std(data)   #표준편차\n",
        "    z_scores = [(y-mean)/std for y in data] #z-score\n",
        "    return z_scores"
      ]
    },
    {
      "cell_type": "code",
      "execution_count": null,
      "id": "a4cd0c04",
      "metadata": {
        "id": "a4cd0c04"
      },
      "outputs": [],
      "source": [
        "# 각 팩터들 표준화\n",
        "\n",
        "kospii=kospi.loc[inc_index,:]\n",
        "vol_fac_z=f_z_score(vol_fac)\n",
        "income_cross_fac_z=f_z_score(income_cross_fac)\n",
        "income_time_fac_z=f_z_score(income_time_fac)\n",
        "small_fac_z=f_z_score(small_fac)\n",
        "kos_z = f_z_score(kospii.소계)"
      ]
    },
    {
      "cell_type": "code",
      "execution_count": null,
      "id": "09bb9353",
      "metadata": {
        "scrolled": true,
        "id": "09bb9353"
      },
      "outputs": [],
      "source": [
        "kospii['vol']=vol_fac_z\n",
        "kospii['소계']=kos_z\n",
        "kospii['income_c']=income_cross_fac_z\n",
        "kospii['income_t']=income_time_fac_z\n",
        "kospii['small']=small_fac_z"
      ]
    },
    {
      "cell_type": "code",
      "execution_count": null,
      "id": "4726c007",
      "metadata": {
        "id": "4726c007",
        "outputId": "9d09568d-d484-4edb-a538-8d30ee474c43"
      },
      "outputs": [
        {
          "data": {
            "text/html": [
              "<table class=\"simpletable\">\n",
              "<caption>OLS Regression Results</caption>\n",
              "<tr>\n",
              "  <th>Dep. Variable:</th>           <td>소계</td>        <th>  R-squared (uncentered):</th>      <td>   0.372</td>\n",
              "</tr>\n",
              "<tr>\n",
              "  <th>Model:</th>                   <td>OLS</td>       <th>  Adj. R-squared (uncentered):</th> <td>   0.353</td>\n",
              "</tr>\n",
              "<tr>\n",
              "  <th>Method:</th>             <td>Least Squares</td>  <th>  F-statistic:       </th>          <td>   19.66</td>\n",
              "</tr>\n",
              "<tr>\n",
              "  <th>Date:</th>             <td>Sun, 03 Apr 2022</td> <th>  Prob (F-statistic):</th>          <td>9.83e-13</td>\n",
              "</tr>\n",
              "<tr>\n",
              "  <th>Time:</th>                 <td>17:00:10</td>     <th>  Log-Likelihood:    </th>          <td> -162.57</td>\n",
              "</tr>\n",
              "<tr>\n",
              "  <th>No. Observations:</th>      <td>   137</td>      <th>  AIC:               </th>          <td>   333.1</td>\n",
              "</tr>\n",
              "<tr>\n",
              "  <th>Df Residuals:</th>          <td>   133</td>      <th>  BIC:               </th>          <td>   344.8</td>\n",
              "</tr>\n",
              "<tr>\n",
              "  <th>Df Model:</th>              <td>     4</td>      <th>                     </th>              <td> </td>   \n",
              "</tr>\n",
              "<tr>\n",
              "  <th>Covariance Type:</th>      <td>nonrobust</td>    <th>                     </th>              <td> </td>   \n",
              "</tr>\n",
              "</table>\n",
              "<table class=\"simpletable\">\n",
              "<tr>\n",
              "      <td></td>        <th>coef</th>     <th>std err</th>      <th>t</th>      <th>P>|t|</th>  <th>[0.025</th>    <th>0.975]</th>  \n",
              "</tr>\n",
              "<tr>\n",
              "  <th>vol</th>      <td>    0.0756</td> <td>    0.081</td> <td>    0.938</td> <td> 0.350</td> <td>   -0.084</td> <td>    0.235</td>\n",
              "</tr>\n",
              "<tr>\n",
              "  <th>income_c</th> <td>    0.2260</td> <td>    0.118</td> <td>    1.912</td> <td> 0.058</td> <td>   -0.008</td> <td>    0.460</td>\n",
              "</tr>\n",
              "<tr>\n",
              "  <th>income_t</th> <td>    0.3949</td> <td>    0.108</td> <td>    3.641</td> <td> 0.000</td> <td>    0.180</td> <td>    0.609</td>\n",
              "</tr>\n",
              "<tr>\n",
              "  <th>small</th>    <td>    0.1000</td> <td>    0.073</td> <td>    1.372</td> <td> 0.172</td> <td>   -0.044</td> <td>    0.244</td>\n",
              "</tr>\n",
              "</table>\n",
              "<table class=\"simpletable\">\n",
              "<tr>\n",
              "  <th>Omnibus:</th>       <td>45.665</td> <th>  Durbin-Watson:     </th> <td>   1.593</td>\n",
              "</tr>\n",
              "<tr>\n",
              "  <th>Prob(Omnibus):</th> <td> 0.000</td> <th>  Jarque-Bera (JB):  </th> <td> 119.567</td>\n",
              "</tr>\n",
              "<tr>\n",
              "  <th>Skew:</th>          <td> 1.314</td> <th>  Prob(JB):          </th> <td>1.09e-26</td>\n",
              "</tr>\n",
              "<tr>\n",
              "  <th>Kurtosis:</th>      <td> 6.747</td> <th>  Cond. No.          </th> <td>    3.13</td>\n",
              "</tr>\n",
              "</table><br/><br/>Notes:<br/>[1] R² is computed without centering (uncentered) since the model does not contain a constant.<br/>[2] Standard Errors assume that the covariance matrix of the errors is correctly specified."
            ],
            "text/plain": [
              "<class 'statsmodels.iolib.summary.Summary'>\n",
              "\"\"\"\n",
              "                                 OLS Regression Results                                \n",
              "=======================================================================================\n",
              "Dep. Variable:                     소계   R-squared (uncentered):                   0.372\n",
              "Model:                            OLS   Adj. R-squared (uncentered):              0.353\n",
              "Method:                 Least Squares   F-statistic:                              19.66\n",
              "Date:                Sun, 03 Apr 2022   Prob (F-statistic):                    9.83e-13\n",
              "Time:                        17:00:10   Log-Likelihood:                         -162.57\n",
              "No. Observations:                 137   AIC:                                      333.1\n",
              "Df Residuals:                     133   BIC:                                      344.8\n",
              "Df Model:                           4                                                  \n",
              "Covariance Type:            nonrobust                                                  \n",
              "==============================================================================\n",
              "                 coef    std err          t      P>|t|      [0.025      0.975]\n",
              "------------------------------------------------------------------------------\n",
              "vol            0.0756      0.081      0.938      0.350      -0.084       0.235\n",
              "income_c       0.2260      0.118      1.912      0.058      -0.008       0.460\n",
              "income_t       0.3949      0.108      3.641      0.000       0.180       0.609\n",
              "small          0.1000      0.073      1.372      0.172      -0.044       0.244\n",
              "==============================================================================\n",
              "Omnibus:                       45.665   Durbin-Watson:                   1.593\n",
              "Prob(Omnibus):                  0.000   Jarque-Bera (JB):              119.567\n",
              "Skew:                           1.314   Prob(JB):                     1.09e-26\n",
              "Kurtosis:                       6.747   Cond. No.                         3.13\n",
              "==============================================================================\n",
              "\n",
              "Notes:\n",
              "[1] R² is computed without centering (uncentered) since the model does not contain a constant.\n",
              "[2] Standard Errors assume that the covariance matrix of the errors is correctly specified.\n",
              "\"\"\""
            ]
          },
          "execution_count": 35,
          "metadata": {},
          "output_type": "execute_result"
        }
      ],
      "source": [
        "# 회귀분석 결과\n",
        "\n",
        "linear_regression = linear_model.LinearRegression()\n",
        "X=kospii[['vol','income_c','income_t','small']]\n",
        "y=kospii['소계']\n",
        "multi_model=sm.OLS(y,X)\n",
        "fitted = multi_model.fit()\n",
        "fitted.summary()"
      ]
    },
    {
      "cell_type": "code",
      "execution_count": null,
      "id": "5b901266",
      "metadata": {
        "id": "5b901266"
      },
      "outputs": [],
      "source": [
        "# 표준화 시키지 않은 ver\n",
        "kospiii=kospi.loc[inc_index,:]\n",
        "kospiii['vol']=vol_fac\n",
        "kospiii['소계']=kospi.소계\n",
        "kospiii['income_c']=income_cross_fac\n",
        "kospiii['income_t']=income_time_fac\n",
        "kospiii['small']=small_fac"
      ]
    },
    {
      "cell_type": "code",
      "execution_count": null,
      "id": "1e33316a",
      "metadata": {
        "id": "1e33316a",
        "outputId": "69313156-daaa-406c-fa2a-6ce7c10037b5"
      },
      "outputs": [
        {
          "data": {
            "text/html": [
              "<div>\n",
              "<style scoped>\n",
              "    .dataframe tbody tr th:only-of-type {\n",
              "        vertical-align: middle;\n",
              "    }\n",
              "\n",
              "    .dataframe tbody tr th {\n",
              "        vertical-align: top;\n",
              "    }\n",
              "\n",
              "    .dataframe thead th {\n",
              "        text-align: right;\n",
              "    }\n",
              "</style>\n",
              "<table border=\"1\" class=\"dataframe\">\n",
              "  <thead>\n",
              "    <tr style=\"text-align: right;\">\n",
              "      <th></th>\n",
              "      <th>소계</th>\n",
              "      <th>vol</th>\n",
              "      <th>income_c</th>\n",
              "      <th>income_t</th>\n",
              "      <th>small</th>\n",
              "    </tr>\n",
              "    <tr>\n",
              "      <th>Symbol Name</th>\n",
              "      <th></th>\n",
              "      <th></th>\n",
              "      <th></th>\n",
              "      <th></th>\n",
              "      <th></th>\n",
              "    </tr>\n",
              "  </thead>\n",
              "  <tbody>\n",
              "    <tr>\n",
              "      <th>2002-08-31</th>\n",
              "      <td>18.41</td>\n",
              "      <td>0.029521</td>\n",
              "      <td>2.881496</td>\n",
              "      <td>0.3575</td>\n",
              "      <td>-0.000586</td>\n",
              "    </tr>\n",
              "    <tr>\n",
              "      <th>2002-10-31</th>\n",
              "      <td>12.50</td>\n",
              "      <td>0.036324</td>\n",
              "      <td>3.170890</td>\n",
              "      <td>0.3525</td>\n",
              "      <td>-0.000622</td>\n",
              "    </tr>\n",
              "    <tr>\n",
              "      <th>2002-11-30</th>\n",
              "      <td>65.88</td>\n",
              "      <td>0.025659</td>\n",
              "      <td>4.558613</td>\n",
              "      <td>0.3900</td>\n",
              "      <td>-0.000812</td>\n",
              "    </tr>\n",
              "    <tr>\n",
              "      <th>2003-04-30</th>\n",
              "      <td>63.65</td>\n",
              "      <td>0.035814</td>\n",
              "      <td>11.407017</td>\n",
              "      <td>0.5250</td>\n",
              "      <td>-0.001042</td>\n",
              "    </tr>\n",
              "    <tr>\n",
              "      <th>2003-05-31</th>\n",
              "      <td>34.07</td>\n",
              "      <td>0.029126</td>\n",
              "      <td>8.545672</td>\n",
              "      <td>0.4250</td>\n",
              "      <td>-0.000799</td>\n",
              "    </tr>\n",
              "    <tr>\n",
              "      <th>...</th>\n",
              "      <td>...</td>\n",
              "      <td>...</td>\n",
              "      <td>...</td>\n",
              "      <td>...</td>\n",
              "      <td>...</td>\n",
              "    </tr>\n",
              "    <tr>\n",
              "      <th>2021-05-31</th>\n",
              "      <td>56.06</td>\n",
              "      <td>0.025716</td>\n",
              "      <td>4.044781</td>\n",
              "      <td>0.5700</td>\n",
              "      <td>0.000087</td>\n",
              "    </tr>\n",
              "    <tr>\n",
              "      <th>2021-06-30</th>\n",
              "      <td>92.76</td>\n",
              "      <td>0.022419</td>\n",
              "      <td>4.784396</td>\n",
              "      <td>0.5675</td>\n",
              "      <td>0.000091</td>\n",
              "    </tr>\n",
              "    <tr>\n",
              "      <th>2021-12-31</th>\n",
              "      <td>138.64</td>\n",
              "      <td>0.020759</td>\n",
              "      <td>8.608325</td>\n",
              "      <td>0.8225</td>\n",
              "      <td>-0.000060</td>\n",
              "    </tr>\n",
              "    <tr>\n",
              "      <th>2022-02-28</th>\n",
              "      <td>35.84</td>\n",
              "      <td>0.028654</td>\n",
              "      <td>4.625400</td>\n",
              "      <td>0.6875</td>\n",
              "      <td>-0.000063</td>\n",
              "    </tr>\n",
              "    <tr>\n",
              "      <th>2022-03-31</th>\n",
              "      <td>58.47</td>\n",
              "      <td>0.022822</td>\n",
              "      <td>6.100625</td>\n",
              "      <td>0.7900</td>\n",
              "      <td>-0.000029</td>\n",
              "    </tr>\n",
              "  </tbody>\n",
              "</table>\n",
              "<p>137 rows × 5 columns</p>\n",
              "</div>"
            ],
            "text/plain": [
              "                 소계       vol   income_c  income_t     small\n",
              "Symbol Name                                                 \n",
              "2002-08-31    18.41  0.029521   2.881496    0.3575 -0.000586\n",
              "2002-10-31    12.50  0.036324   3.170890    0.3525 -0.000622\n",
              "2002-11-30    65.88  0.025659   4.558613    0.3900 -0.000812\n",
              "2003-04-30    63.65  0.035814  11.407017    0.5250 -0.001042\n",
              "2003-05-31    34.07  0.029126   8.545672    0.4250 -0.000799\n",
              "...             ...       ...        ...       ...       ...\n",
              "2021-05-31    56.06  0.025716   4.044781    0.5700  0.000087\n",
              "2021-06-30    92.76  0.022419   4.784396    0.5675  0.000091\n",
              "2021-12-31   138.64  0.020759   8.608325    0.8225 -0.000060\n",
              "2022-02-28    35.84  0.028654   4.625400    0.6875 -0.000063\n",
              "2022-03-31    58.47  0.022822   6.100625    0.7900 -0.000029\n",
              "\n",
              "[137 rows x 5 columns]"
            ]
          },
          "execution_count": 37,
          "metadata": {},
          "output_type": "execute_result"
        }
      ],
      "source": [
        "kospiii"
      ]
    },
    {
      "cell_type": "code",
      "execution_count": null,
      "id": "3d810bea",
      "metadata": {
        "id": "3d810bea",
        "outputId": "ba3fcf49-7753-4c5f-847c-92581e0ae7b5"
      },
      "outputs": [
        {
          "data": {
            "text/html": [
              "<table class=\"simpletable\">\n",
              "<caption>OLS Regression Results</caption>\n",
              "<tr>\n",
              "  <th>Dep. Variable:</th>           <td>소계</td>        <th>  R-squared (uncentered):</th>      <td>   0.749</td>\n",
              "</tr>\n",
              "<tr>\n",
              "  <th>Model:</th>                   <td>OLS</td>       <th>  Adj. R-squared (uncentered):</th> <td>   0.741</td>\n",
              "</tr>\n",
              "<tr>\n",
              "  <th>Method:</th>             <td>Least Squares</td>  <th>  F-statistic:       </th>          <td>   99.06</td>\n",
              "</tr>\n",
              "<tr>\n",
              "  <th>Date:</th>             <td>Sun, 03 Apr 2022</td> <th>  Prob (F-statistic):</th>          <td>6.59e-39</td>\n",
              "</tr>\n",
              "<tr>\n",
              "  <th>Time:</th>                 <td>17:00:10</td>     <th>  Log-Likelihood:    </th>          <td> -708.11</td>\n",
              "</tr>\n",
              "<tr>\n",
              "  <th>No. Observations:</th>      <td>   137</td>      <th>  AIC:               </th>          <td>   1424.</td>\n",
              "</tr>\n",
              "<tr>\n",
              "  <th>Df Residuals:</th>          <td>   133</td>      <th>  BIC:               </th>          <td>   1436.</td>\n",
              "</tr>\n",
              "<tr>\n",
              "  <th>Df Model:</th>              <td>     4</td>      <th>                     </th>              <td> </td>   \n",
              "</tr>\n",
              "<tr>\n",
              "  <th>Covariance Type:</th>      <td>nonrobust</td>    <th>                     </th>              <td> </td>   \n",
              "</tr>\n",
              "</table>\n",
              "<table class=\"simpletable\">\n",
              "<tr>\n",
              "      <td></td>        <th>coef</th>     <th>std err</th>      <th>t</th>      <th>P>|t|</th>  <th>[0.025</th>    <th>0.975]</th>  \n",
              "</tr>\n",
              "<tr>\n",
              "  <th>vol</th>      <td> -157.6145</td> <td>  418.433</td> <td>   -0.377</td> <td> 0.707</td> <td> -985.259</td> <td>  670.030</td>\n",
              "</tr>\n",
              "<tr>\n",
              "  <th>income_c</th> <td>    3.7214</td> <td>    1.042</td> <td>    3.570</td> <td> 0.000</td> <td>    1.660</td> <td>    5.783</td>\n",
              "</tr>\n",
              "<tr>\n",
              "  <th>income_t</th> <td>  115.6350</td> <td>   27.884</td> <td>    4.147</td> <td> 0.000</td> <td>   60.482</td> <td>  170.788</td>\n",
              "</tr>\n",
              "<tr>\n",
              "  <th>small</th>    <td> 1.171e+04</td> <td> 9879.199</td> <td>    1.185</td> <td> 0.238</td> <td>-7832.195</td> <td> 3.12e+04</td>\n",
              "</tr>\n",
              "</table>\n",
              "<table class=\"simpletable\">\n",
              "<tr>\n",
              "  <th>Omnibus:</th>       <td>51.091</td> <th>  Durbin-Watson:     </th> <td>   1.548</td>\n",
              "</tr>\n",
              "<tr>\n",
              "  <th>Prob(Omnibus):</th> <td> 0.000</td> <th>  Jarque-Bera (JB):  </th> <td> 150.321</td>\n",
              "</tr>\n",
              "<tr>\n",
              "  <th>Skew:</th>          <td> 1.428</td> <th>  Prob(JB):          </th> <td>2.28e-33</td>\n",
              "</tr>\n",
              "<tr>\n",
              "  <th>Kurtosis:</th>      <td> 7.264</td> <th>  Cond. No.          </th> <td>1.75e+04</td>\n",
              "</tr>\n",
              "</table><br/><br/>Notes:<br/>[1] R² is computed without centering (uncentered) since the model does not contain a constant.<br/>[2] Standard Errors assume that the covariance matrix of the errors is correctly specified.<br/>[3] The condition number is large, 1.75e+04. This might indicate that there are<br/>strong multicollinearity or other numerical problems."
            ],
            "text/plain": [
              "<class 'statsmodels.iolib.summary.Summary'>\n",
              "\"\"\"\n",
              "                                 OLS Regression Results                                \n",
              "=======================================================================================\n",
              "Dep. Variable:                     소계   R-squared (uncentered):                   0.749\n",
              "Model:                            OLS   Adj. R-squared (uncentered):              0.741\n",
              "Method:                 Least Squares   F-statistic:                              99.06\n",
              "Date:                Sun, 03 Apr 2022   Prob (F-statistic):                    6.59e-39\n",
              "Time:                        17:00:10   Log-Likelihood:                         -708.11\n",
              "No. Observations:                 137   AIC:                                      1424.\n",
              "Df Residuals:                     133   BIC:                                      1436.\n",
              "Df Model:                           4                                                  \n",
              "Covariance Type:            nonrobust                                                  \n",
              "==============================================================================\n",
              "                 coef    std err          t      P>|t|      [0.025      0.975]\n",
              "------------------------------------------------------------------------------\n",
              "vol         -157.6145    418.433     -0.377      0.707    -985.259     670.030\n",
              "income_c       3.7214      1.042      3.570      0.000       1.660       5.783\n",
              "income_t     115.6350     27.884      4.147      0.000      60.482     170.788\n",
              "small       1.171e+04   9879.199      1.185      0.238   -7832.195    3.12e+04\n",
              "==============================================================================\n",
              "Omnibus:                       51.091   Durbin-Watson:                   1.548\n",
              "Prob(Omnibus):                  0.000   Jarque-Bera (JB):              150.321\n",
              "Skew:                           1.428   Prob(JB):                     2.28e-33\n",
              "Kurtosis:                       7.264   Cond. No.                     1.75e+04\n",
              "==============================================================================\n",
              "\n",
              "Notes:\n",
              "[1] R² is computed without centering (uncentered) since the model does not contain a constant.\n",
              "[2] Standard Errors assume that the covariance matrix of the errors is correctly specified.\n",
              "[3] The condition number is large, 1.75e+04. This might indicate that there are\n",
              "strong multicollinearity or other numerical problems.\n",
              "\"\"\""
            ]
          },
          "execution_count": 38,
          "metadata": {},
          "output_type": "execute_result"
        }
      ],
      "source": [
        "\n",
        "X2=kospiii[['vol','income_c','income_t','small']]\n",
        "y2=kospiii['소계']\n",
        "multi_model2=sm.OLS(y2,X2)\n",
        "fitted2 = multi_model2.fit()\n",
        "fitted2.summary()"
      ]
    },
    {
      "cell_type": "code",
      "execution_count": null,
      "id": "08a4da6e",
      "metadata": {
        "id": "08a4da6e"
      },
      "outputs": [],
      "source": [
        "screen=pd.DataFrame(vol_comp)\n",
        "screen['income_c']=income_cross_comp\n",
        "screen['income_t']=income_time_comp\n",
        "screen['small']=small_comp"
      ]
    },
    {
      "cell_type": "code",
      "execution_count": null,
      "id": "daa7b60d",
      "metadata": {
        "id": "daa7b60d",
        "outputId": "3f60243c-9c0f-467f-8aba-d35ddf9890c5"
      },
      "outputs": [
        {
          "data": {
            "text/html": [
              "<div>\n",
              "<style scoped>\n",
              "    .dataframe tbody tr th:only-of-type {\n",
              "        vertical-align: middle;\n",
              "    }\n",
              "\n",
              "    .dataframe tbody tr th {\n",
              "        vertical-align: top;\n",
              "    }\n",
              "\n",
              "    .dataframe thead th {\n",
              "        text-align: right;\n",
              "    }\n",
              "</style>\n",
              "<table border=\"1\" class=\"dataframe\">\n",
              "  <thead>\n",
              "    <tr style=\"text-align: right;\">\n",
              "      <th></th>\n",
              "      <th>mean</th>\n",
              "      <th>income_c</th>\n",
              "      <th>income_t</th>\n",
              "      <th>small</th>\n",
              "    </tr>\n",
              "  </thead>\n",
              "  <tbody>\n",
              "    <tr>\n",
              "      <th>삼성제약</th>\n",
              "      <td>0.030873</td>\n",
              "      <td>2.10</td>\n",
              "      <td>0.547445</td>\n",
              "      <td>-0.000029</td>\n",
              "    </tr>\n",
              "    <tr>\n",
              "      <th>퍼스텍</th>\n",
              "      <td>0.033522</td>\n",
              "      <td>-14.24</td>\n",
              "      <td>0.540146</td>\n",
              "      <td>0.000065</td>\n",
              "    </tr>\n",
              "    <tr>\n",
              "      <th>엔에이치스팩19호</th>\n",
              "      <td>0.005700</td>\n",
              "      <td>1.69</td>\n",
              "      <td>0.014599</td>\n",
              "      <td>-0.000046</td>\n",
              "    </tr>\n",
              "    <tr>\n",
              "      <th>CJ대한통운</th>\n",
              "      <td>0.021990</td>\n",
              "      <td>4.44</td>\n",
              "      <td>0.620438</td>\n",
              "      <td>0.000025</td>\n",
              "    </tr>\n",
              "    <tr>\n",
              "      <th>오리온홀딩스</th>\n",
              "      <td>0.022269</td>\n",
              "      <td>1.06</td>\n",
              "      <td>0.656934</td>\n",
              "      <td>0.000010</td>\n",
              "    </tr>\n",
              "    <tr>\n",
              "      <th>...</th>\n",
              "      <td>...</td>\n",
              "      <td>...</td>\n",
              "      <td>...</td>\n",
              "      <td>...</td>\n",
              "    </tr>\n",
              "    <tr>\n",
              "      <th>LG생활건강</th>\n",
              "      <td>0.020817</td>\n",
              "      <td>-9.68</td>\n",
              "      <td>0.700730</td>\n",
              "      <td>0.000005</td>\n",
              "    </tr>\n",
              "    <tr>\n",
              "      <th>SK바이오팜</th>\n",
              "      <td>0.027114</td>\n",
              "      <td>6.15</td>\n",
              "      <td>0.058394</td>\n",
              "      <td>-0.000003</td>\n",
              "    </tr>\n",
              "    <tr>\n",
              "      <th>한미사이언스</th>\n",
              "      <td>0.026686</td>\n",
              "      <td>-1.76</td>\n",
              "      <td>0.583942</td>\n",
              "      <td>0.000019</td>\n",
              "    </tr>\n",
              "    <tr>\n",
              "      <th>크래프톤</th>\n",
              "      <td>0.030700</td>\n",
              "      <td>-6.61</td>\n",
              "      <td>0.007299</td>\n",
              "      <td>-0.000003</td>\n",
              "    </tr>\n",
              "    <tr>\n",
              "      <th>F&amp;F</th>\n",
              "      <td>0.029575</td>\n",
              "      <td>-16.29</td>\n",
              "      <td>0.029197</td>\n",
              "      <td>0.000004</td>\n",
              "    </tr>\n",
              "  </tbody>\n",
              "</table>\n",
              "<p>400 rows × 4 columns</p>\n",
              "</div>"
            ],
            "text/plain": [
              "               mean  income_c  income_t     small\n",
              "삼성제약       0.030873      2.10  0.547445 -0.000029\n",
              "퍼스텍        0.033522    -14.24  0.540146  0.000065\n",
              "엔에이치스팩19호  0.005700      1.69  0.014599 -0.000046\n",
              "CJ대한통운     0.021990      4.44  0.620438  0.000025\n",
              "오리온홀딩스     0.022269      1.06  0.656934  0.000010\n",
              "...             ...       ...       ...       ...\n",
              "LG생활건강     0.020817     -9.68  0.700730  0.000005\n",
              "SK바이오팜     0.027114      6.15  0.058394 -0.000003\n",
              "한미사이언스     0.026686     -1.76  0.583942  0.000019\n",
              "크래프톤       0.030700     -6.61  0.007299 -0.000003\n",
              "F&F        0.029575    -16.29  0.029197  0.000004\n",
              "\n",
              "[400 rows x 4 columns]"
            ]
          },
          "execution_count": 40,
          "metadata": {},
          "output_type": "execute_result"
        }
      ],
      "source": [
        "screen"
      ]
    },
    {
      "cell_type": "code",
      "execution_count": null,
      "id": "b5f345f1",
      "metadata": {
        "id": "b5f345f1"
      },
      "outputs": [],
      "source": [
        "screen_rank=screen.fillna(0)\n",
        "screen_rank.rename(columns = {'mean' : 'vol'}, inplace = True)"
      ]
    },
    {
      "cell_type": "code",
      "execution_count": null,
      "id": "86bd6b2a",
      "metadata": {
        "id": "86bd6b2a"
      },
      "outputs": [],
      "source": [
        "# 팩터별 가중치 적용\n",
        "\n",
        "screen_rank['vol_rank'] = screen_rank['vol'].rank(ascending=False)*0.5\n",
        "screen_rank['income_c_rank'] = screen_rank['income_c'].rank()*3.5\n",
        "screen_rank['income_t_rank'] = screen_rank['income_t'].rank()*4\n",
        "screen_rank['small_rank'] = screen_rank['small'].rank()"
      ]
    },
    {
      "cell_type": "code",
      "execution_count": null,
      "id": "33f3c48e",
      "metadata": {
        "id": "33f3c48e",
        "outputId": "84314107-30dc-491a-9471-de36a2b90805"
      },
      "outputs": [
        {
          "data": {
            "text/html": [
              "<div>\n",
              "<style scoped>\n",
              "    .dataframe tbody tr th:only-of-type {\n",
              "        vertical-align: middle;\n",
              "    }\n",
              "\n",
              "    .dataframe tbody tr th {\n",
              "        vertical-align: top;\n",
              "    }\n",
              "\n",
              "    .dataframe thead th {\n",
              "        text-align: right;\n",
              "    }\n",
              "</style>\n",
              "<table border=\"1\" class=\"dataframe\">\n",
              "  <thead>\n",
              "    <tr style=\"text-align: right;\">\n",
              "      <th></th>\n",
              "      <th>vol</th>\n",
              "      <th>income_c</th>\n",
              "      <th>income_t</th>\n",
              "      <th>small</th>\n",
              "      <th>vol_rank</th>\n",
              "      <th>income_c_rank</th>\n",
              "      <th>income_t_rank</th>\n",
              "      <th>small_rank</th>\n",
              "    </tr>\n",
              "  </thead>\n",
              "  <tbody>\n",
              "    <tr>\n",
              "      <th>삼성제약</th>\n",
              "      <td>0.030873</td>\n",
              "      <td>2.10</td>\n",
              "      <td>0.547445</td>\n",
              "      <td>-0.000029</td>\n",
              "      <td>40.0</td>\n",
              "      <td>427.0</td>\n",
              "      <td>822.0</td>\n",
              "      <td>38.0</td>\n",
              "    </tr>\n",
              "    <tr>\n",
              "      <th>퍼스텍</th>\n",
              "      <td>0.033522</td>\n",
              "      <td>-14.24</td>\n",
              "      <td>0.540146</td>\n",
              "      <td>0.000065</td>\n",
              "      <td>25.0</td>\n",
              "      <td>14.0</td>\n",
              "      <td>784.0</td>\n",
              "      <td>272.0</td>\n",
              "    </tr>\n",
              "    <tr>\n",
              "      <th>엔에이치스팩19호</th>\n",
              "      <td>0.005700</td>\n",
              "      <td>1.69</td>\n",
              "      <td>0.014599</td>\n",
              "      <td>-0.000046</td>\n",
              "      <td>200.0</td>\n",
              "      <td>392.0</td>\n",
              "      <td>28.0</td>\n",
              "      <td>32.0</td>\n",
              "    </tr>\n",
              "    <tr>\n",
              "      <th>CJ대한통운</th>\n",
              "      <td>0.021990</td>\n",
              "      <td>4.44</td>\n",
              "      <td>0.620438</td>\n",
              "      <td>0.000025</td>\n",
              "      <td>146.0</td>\n",
              "      <td>633.5</td>\n",
              "      <td>1304.0</td>\n",
              "      <td>214.0</td>\n",
              "    </tr>\n",
              "    <tr>\n",
              "      <th>오리온홀딩스</th>\n",
              "      <td>0.022269</td>\n",
              "      <td>1.06</td>\n",
              "      <td>0.656934</td>\n",
              "      <td>0.000010</td>\n",
              "      <td>139.5</td>\n",
              "      <td>364.0</td>\n",
              "      <td>1466.0</td>\n",
              "      <td>161.0</td>\n",
              "    </tr>\n",
              "    <tr>\n",
              "      <th>...</th>\n",
              "      <td>...</td>\n",
              "      <td>...</td>\n",
              "      <td>...</td>\n",
              "      <td>...</td>\n",
              "      <td>...</td>\n",
              "      <td>...</td>\n",
              "      <td>...</td>\n",
              "      <td>...</td>\n",
              "    </tr>\n",
              "    <tr>\n",
              "      <th>LG생활건강</th>\n",
              "      <td>0.020817</td>\n",
              "      <td>-9.68</td>\n",
              "      <td>0.700730</td>\n",
              "      <td>0.000005</td>\n",
              "      <td>164.5</td>\n",
              "      <td>35.0</td>\n",
              "      <td>1586.0</td>\n",
              "      <td>138.0</td>\n",
              "    </tr>\n",
              "    <tr>\n",
              "      <th>SK바이오팜</th>\n",
              "      <td>0.027114</td>\n",
              "      <td>6.15</td>\n",
              "      <td>0.058394</td>\n",
              "      <td>-0.000003</td>\n",
              "      <td>82.5</td>\n",
              "      <td>787.5</td>\n",
              "      <td>92.0</td>\n",
              "      <td>62.0</td>\n",
              "    </tr>\n",
              "    <tr>\n",
              "      <th>한미사이언스</th>\n",
              "      <td>0.026686</td>\n",
              "      <td>-1.76</td>\n",
              "      <td>0.583942</td>\n",
              "      <td>0.000019</td>\n",
              "      <td>88.5</td>\n",
              "      <td>199.5</td>\n",
              "      <td>1002.0</td>\n",
              "      <td>189.0</td>\n",
              "    </tr>\n",
              "    <tr>\n",
              "      <th>크래프톤</th>\n",
              "      <td>0.030700</td>\n",
              "      <td>-6.61</td>\n",
              "      <td>0.007299</td>\n",
              "      <td>-0.000003</td>\n",
              "      <td>42.5</td>\n",
              "      <td>56.0</td>\n",
              "      <td>8.0</td>\n",
              "      <td>63.0</td>\n",
              "    </tr>\n",
              "    <tr>\n",
              "      <th>F&amp;F</th>\n",
              "      <td>0.029575</td>\n",
              "      <td>-16.29</td>\n",
              "      <td>0.029197</td>\n",
              "      <td>0.000004</td>\n",
              "      <td>54.0</td>\n",
              "      <td>10.5</td>\n",
              "      <td>70.0</td>\n",
              "      <td>136.0</td>\n",
              "    </tr>\n",
              "  </tbody>\n",
              "</table>\n",
              "<p>400 rows × 8 columns</p>\n",
              "</div>"
            ],
            "text/plain": [
              "                vol  income_c  income_t     small  vol_rank  income_c_rank  \\\n",
              "삼성제약       0.030873      2.10  0.547445 -0.000029      40.0          427.0   \n",
              "퍼스텍        0.033522    -14.24  0.540146  0.000065      25.0           14.0   \n",
              "엔에이치스팩19호  0.005700      1.69  0.014599 -0.000046     200.0          392.0   \n",
              "CJ대한통운     0.021990      4.44  0.620438  0.000025     146.0          633.5   \n",
              "오리온홀딩스     0.022269      1.06  0.656934  0.000010     139.5          364.0   \n",
              "...             ...       ...       ...       ...       ...            ...   \n",
              "LG생활건강     0.020817     -9.68  0.700730  0.000005     164.5           35.0   \n",
              "SK바이오팜     0.027114      6.15  0.058394 -0.000003      82.5          787.5   \n",
              "한미사이언스     0.026686     -1.76  0.583942  0.000019      88.5          199.5   \n",
              "크래프톤       0.030700     -6.61  0.007299 -0.000003      42.5           56.0   \n",
              "F&F        0.029575    -16.29  0.029197  0.000004      54.0           10.5   \n",
              "\n",
              "           income_t_rank  small_rank  \n",
              "삼성제약               822.0        38.0  \n",
              "퍼스텍                784.0       272.0  \n",
              "엔에이치스팩19호           28.0        32.0  \n",
              "CJ대한통운            1304.0       214.0  \n",
              "오리온홀딩스            1466.0       161.0  \n",
              "...                  ...         ...  \n",
              "LG생활건강            1586.0       138.0  \n",
              "SK바이오팜              92.0        62.0  \n",
              "한미사이언스            1002.0       189.0  \n",
              "크래프톤                 8.0        63.0  \n",
              "F&F                 70.0       136.0  \n",
              "\n",
              "[400 rows x 8 columns]"
            ]
          },
          "execution_count": 44,
          "metadata": {},
          "output_type": "execute_result"
        }
      ],
      "source": [
        "screen_rank"
      ]
    },
    {
      "cell_type": "code",
      "execution_count": null,
      "id": "87459cae",
      "metadata": {
        "id": "87459cae"
      },
      "outputs": [],
      "source": [
        "screen_rank['final_rank']=screen_rank['vol_rank']+screen_rank['income_c_rank']+screen_rank['income_t_rank']+screen_rank['small_rank']\n",
        "screen_rank['final_ranking']=screen_rank['final_rank'].rank(ascending=False)\n",
        "final_screen=screen_rank.sort_values('final_ranking')"
      ]
    },
    {
      "cell_type": "code",
      "execution_count": null,
      "id": "73d71599",
      "metadata": {
        "id": "73d71599",
        "outputId": "b3c105f6-b54d-443c-a94d-ecbb06fb9728"
      },
      "outputs": [
        {
          "data": {
            "text/html": [
              "<div>\n",
              "<style scoped>\n",
              "    .dataframe tbody tr th:only-of-type {\n",
              "        vertical-align: middle;\n",
              "    }\n",
              "\n",
              "    .dataframe tbody tr th {\n",
              "        vertical-align: top;\n",
              "    }\n",
              "\n",
              "    .dataframe thead th {\n",
              "        text-align: right;\n",
              "    }\n",
              "</style>\n",
              "<table border=\"1\" class=\"dataframe\">\n",
              "  <thead>\n",
              "    <tr style=\"text-align: right;\">\n",
              "      <th></th>\n",
              "      <th>final_ranking</th>\n",
              "    </tr>\n",
              "  </thead>\n",
              "  <tbody>\n",
              "    <tr>\n",
              "      <th>진양산업</th>\n",
              "      <td>1.0</td>\n",
              "    </tr>\n",
              "    <tr>\n",
              "      <th>대동</th>\n",
              "      <td>2.0</td>\n",
              "    </tr>\n",
              "    <tr>\n",
              "      <th>TYM</th>\n",
              "      <td>3.0</td>\n",
              "    </tr>\n",
              "    <tr>\n",
              "      <th>메리츠화재</th>\n",
              "      <td>4.0</td>\n",
              "    </tr>\n",
              "    <tr>\n",
              "      <th>한성기업</th>\n",
              "      <td>5.0</td>\n",
              "    </tr>\n",
              "    <tr>\n",
              "      <th>신세계 I&amp;C</th>\n",
              "      <td>6.0</td>\n",
              "    </tr>\n",
              "    <tr>\n",
              "      <th>남해화학</th>\n",
              "      <td>7.0</td>\n",
              "    </tr>\n",
              "    <tr>\n",
              "      <th>부산산업</th>\n",
              "      <td>8.0</td>\n",
              "    </tr>\n",
              "    <tr>\n",
              "      <th>한솔케미칼</th>\n",
              "      <td>9.0</td>\n",
              "    </tr>\n",
              "    <tr>\n",
              "      <th>삼성화재</th>\n",
              "      <td>10.0</td>\n",
              "    </tr>\n",
              "  </tbody>\n",
              "</table>\n",
              "</div>"
            ],
            "text/plain": [
              "         final_ranking\n",
              "진양산업               1.0\n",
              "대동                 2.0\n",
              "TYM                3.0\n",
              "메리츠화재              4.0\n",
              "한성기업               5.0\n",
              "신세계 I&C            6.0\n",
              "남해화학               7.0\n",
              "부산산업               8.0\n",
              "한솔케미칼              9.0\n",
              "삼성화재              10.0"
            ]
          },
          "execution_count": 48,
          "metadata": {},
          "output_type": "execute_result"
        }
      ],
      "source": [
        "pd.DataFrame(final_screen.iloc[:10,-1])"
      ]
    },
    {
      "cell_type": "code",
      "execution_count": null,
      "id": "28fa1395",
      "metadata": {
        "id": "28fa1395",
        "outputId": "680242f5-087c-4fea-d8f6-1c9f4bc98f8a"
      },
      "outputs": [
        {
          "data": {
            "text/plain": [
              "Index(['진양산업', '대동', 'TYM', '메리츠화재', '한성기업', '신세계 I&C', '남해화학', '부산산업',\n",
              "       '한솔케미칼', '삼성화재'],\n",
              "      dtype='object')"
            ]
          },
          "execution_count": 49,
          "metadata": {},
          "output_type": "execute_result"
        }
      ],
      "source": [
        "final_screen.iloc[:10].index"
      ]
    }
  ],
  "metadata": {
    "kernelspec": {
      "display_name": "Python 3 (ipykernel)",
      "language": "python",
      "name": "python3"
    },
    "language_info": {
      "codemirror_mode": {
        "name": "ipython",
        "version": 3
      },
      "file_extension": ".py",
      "mimetype": "text/x-python",
      "name": "python",
      "nbconvert_exporter": "python",
      "pygments_lexer": "ipython3",
      "version": "3.7.11"
    },
    "colab": {
      "provenance": [],
      "include_colab_link": true
    }
  },
  "nbformat": 4,
  "nbformat_minor": 5
}

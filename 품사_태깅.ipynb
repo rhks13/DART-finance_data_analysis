{
  "nbformat": 4,
  "nbformat_minor": 0,
  "metadata": {
    "colab": {
      "provenance": [],
      "authorship_tag": "ABX9TyPMy6at9YCI/XXHahMfj4VA",
      "include_colab_link": true
    },
    "kernelspec": {
      "name": "python3",
      "display_name": "Python 3"
    },
    "language_info": {
      "name": "python"
    },
    "accelerator": "GPU",
    "gpuClass": "standard"
  },
  "cells": [
    {
      "cell_type": "markdown",
      "metadata": {
        "id": "view-in-github",
        "colab_type": "text"
      },
      "source": [
        "<a href=\"https://colab.research.google.com/github/rhks13/DART/blob/main/%ED%92%88%EC%82%AC_%ED%83%9C%EA%B9%85.ipynb\" target=\"_parent\"><img src=\"https://colab.research.google.com/assets/colab-badge.svg\" alt=\"Open In Colab\"/></a>"
      ]
    },
    {
      "cell_type": "code",
      "source": [
        "from google.colab import drive\n",
        "drive.mount('/content/gdrive/')"
      ],
      "metadata": {
        "colab": {
          "base_uri": "https://localhost:8080/"
        },
        "id": "kzWWhKoMOduJ",
        "outputId": "97494605-f72d-417e-de1c-29f9c8461581"
      },
      "execution_count": 1,
      "outputs": [
        {
          "output_type": "stream",
          "name": "stdout",
          "text": [
            "Mounted at /content/gdrive/\n"
          ]
        }
      ]
    },
    {
      "cell_type": "code",
      "source": [
        "import pandas as pd\n",
        "import numpy as np\n",
        "from tqdm import tqdm\n",
        "import re"
      ],
      "metadata": {
        "id": "o7Ia4z7nOgTg"
      },
      "execution_count": 2,
      "outputs": []
    },
    {
      "cell_type": "code",
      "source": [
        "!pip install konlpy"
      ],
      "metadata": {
        "colab": {
          "base_uri": "https://localhost:8080/"
        },
        "id": "8EkkTUlqO4P0",
        "outputId": "e12c2e3d-c5e1-4c55-8bcc-bbd3c5789cf2"
      },
      "execution_count": 3,
      "outputs": [
        {
          "output_type": "stream",
          "name": "stdout",
          "text": [
            "Looking in indexes: https://pypi.org/simple, https://us-python.pkg.dev/colab-wheels/public/simple/\n",
            "Collecting konlpy\n",
            "  Downloading konlpy-0.6.0-py2.py3-none-any.whl (19.4 MB)\n",
            "\u001b[2K     \u001b[90m━━━━━━━━━━━━━━━━━━━━━━━━━━━━━━━━━━━━━━━━\u001b[0m \u001b[32m19.4/19.4 MB\u001b[0m \u001b[31m79.0 MB/s\u001b[0m eta \u001b[36m0:00:00\u001b[0m\n",
            "\u001b[?25hRequirement already satisfied: lxml>=4.1.0 in /usr/local/lib/python3.10/dist-packages (from konlpy) (4.9.2)\n",
            "Collecting JPype1>=0.7.0\n",
            "  Downloading JPype1-1.4.1-cp310-cp310-manylinux_2_12_x86_64.manylinux2010_x86_64.whl (465 kB)\n",
            "\u001b[2K     \u001b[90m━━━━━━━━━━━━━━━━━━━━━━━━━━━━━━━━━━━━━━\u001b[0m \u001b[32m465.3/465.3 kB\u001b[0m \u001b[31m45.2 MB/s\u001b[0m eta \u001b[36m0:00:00\u001b[0m\n",
            "\u001b[?25hRequirement already satisfied: numpy>=1.6 in /usr/local/lib/python3.10/dist-packages (from konlpy) (1.22.4)\n",
            "Requirement already satisfied: packaging in /usr/local/lib/python3.10/dist-packages (from JPype1>=0.7.0->konlpy) (23.1)\n",
            "Installing collected packages: JPype1, konlpy\n",
            "Successfully installed JPype1-1.4.1 konlpy-0.6.0\n"
          ]
        }
      ]
    },
    {
      "cell_type": "code",
      "execution_count": 4,
      "metadata": {
        "id": "r--ZtIM3ONDm"
      },
      "outputs": [],
      "source": [
        "corpus = pd.read_csv('/content/gdrive/MyDrive/DART/모투/23-1 모투/data/최최종텍스트0429.csv',encoding = 'utf-8', index_col=0)"
      ]
    },
    {
      "cell_type": "code",
      "source": [
        "from konlpy.tag import Komoran\n",
        "\n",
        "# Okt 객체 생성\n",
        "kom = Komoran()\n",
        "\n",
        "# 샘플 문장\n",
        "text = \"한글 자연어 처리는 쉽지 않아요. 하지만 파이썬을 이용하면 재미있게 배울 수 있어요!\"\n",
        "\n",
        "# 품사 태깅 수행\n",
        "tagged_text = kom.pos(text)\n",
        "\n",
        "# 결과 출력\n",
        "print(tagged_text)"
      ],
      "metadata": {
        "colab": {
          "base_uri": "https://localhost:8080/"
        },
        "id": "oAZVXN3qOwUl",
        "outputId": "c21e70b4-7416-4e73-f2ca-b03c4b32a145"
      },
      "execution_count": 5,
      "outputs": [
        {
          "output_type": "stream",
          "name": "stdout",
          "text": [
            "[('한글', 'NNP'), ('자연어', 'NNP'), ('처리', 'NNG'), ('는', 'JX'), ('쉽', 'VA'), ('지', 'EC'), ('않', 'VX'), ('아요', 'EF'), ('.', 'SF'), ('하지만', 'MAJ'), ('파이썬', 'NNP'), ('을', 'JKO'), ('이용', 'NNG'), ('하', 'XSV'), ('면', 'EC'), ('재미있', 'VA'), ('게', 'EC'), ('배우', 'VV'), ('ㄹ', 'ETM'), ('수', 'NNB'), ('있', 'VX'), ('어요', 'EF'), ('!', 'SF')]\n"
          ]
        }
      ]
    },
    {
      "cell_type": "code",
      "source": [
        "tag=[i[1][0] for i in tagged_text]\n",
        "tag"
      ],
      "metadata": {
        "id": "5_mO-nujOwSc",
        "colab": {
          "base_uri": "https://localhost:8080/"
        },
        "outputId": "b16e319a-e7a8-4181-8e67-74fad58cbf5f"
      },
      "execution_count": 6,
      "outputs": [
        {
          "output_type": "execute_result",
          "data": {
            "text/plain": [
              "['N',\n",
              " 'N',\n",
              " 'N',\n",
              " 'J',\n",
              " 'V',\n",
              " 'E',\n",
              " 'V',\n",
              " 'E',\n",
              " 'S',\n",
              " 'M',\n",
              " 'N',\n",
              " 'J',\n",
              " 'N',\n",
              " 'X',\n",
              " 'E',\n",
              " 'V',\n",
              " 'E',\n",
              " 'V',\n",
              " 'E',\n",
              " 'N',\n",
              " 'V',\n",
              " 'E',\n",
              " 'S']"
            ]
          },
          "metadata": {},
          "execution_count": 6
        }
      ]
    },
    {
      "cell_type": "code",
      "source": [
        "def kom(text):\n",
        "  try:\n",
        "    kom = Komoran()\n",
        "    tagged_text = kom.pos(text)\n",
        "    tag=[i[1][0] for i in tagged_text]\n",
        "    return tag\n",
        "  except:\n",
        "    return ['N']"
      ],
      "metadata": {
        "id": "vrXG6nA-OwQW"
      },
      "execution_count": 9,
      "outputs": []
    },
    {
      "cell_type": "code",
      "source": [
        "pum=corpus.applymap(kom)"
      ],
      "metadata": {
        "id": "ylpb0SvhOwNs"
      },
      "execution_count": null,
      "outputs": []
    },
    {
      "cell_type": "code",
      "source": [
        "pum"
      ],
      "metadata": {
        "id": "rXsiFOikaJvP"
      },
      "execution_count": null,
      "outputs": []
    },
    {
      "cell_type": "code",
      "source": [
        "pum.to_csv('/content/gdrive/MyDrive/DART/모투/23-1 모투/data/pumsa0501.csv')"
      ],
      "metadata": {
        "id": "imXHzVgkOwLR"
      },
      "execution_count": null,
      "outputs": []
    }
  ]
}